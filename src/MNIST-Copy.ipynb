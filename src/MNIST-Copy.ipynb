{
 "cells": [
  {
   "cell_type": "code",
   "execution_count": 1,
   "metadata": {},
   "outputs": [],
   "source": [
    "from tensorflow import keras"
   ]
  },
  {
   "cell_type": "code",
   "execution_count": 2,
   "metadata": {},
   "outputs": [
    {
     "name": "stdout",
     "output_type": "stream",
     "text": [
      "Downloading data from https://storage.googleapis.com/tensorflow/tf-keras-datasets/mnist.npz\n",
      "11493376/11490434 [==============================] - 1s 0us/step\n"
     ]
    }
   ],
   "source": [
    "#load data\n",
    "(x_train, y_train), (x_test, y_test) = keras.datasets.mnist.load_data()"
   ]
  },
  {
   "cell_type": "code",
   "execution_count": 7,
   "metadata": {},
   "outputs": [
    {
     "data": {
      "text/plain": [
       "array([[[0, 0, 0, ..., 0, 0, 0],\n",
       "        [0, 0, 0, ..., 0, 0, 0],\n",
       "        [0, 0, 0, ..., 0, 0, 0],\n",
       "        ...,\n",
       "        [0, 0, 0, ..., 0, 0, 0],\n",
       "        [0, 0, 0, ..., 0, 0, 0],\n",
       "        [0, 0, 0, ..., 0, 0, 0]],\n",
       "\n",
       "       [[0, 0, 0, ..., 0, 0, 0],\n",
       "        [0, 0, 0, ..., 0, 0, 0],\n",
       "        [0, 0, 0, ..., 0, 0, 0],\n",
       "        ...,\n",
       "        [0, 0, 0, ..., 0, 0, 0],\n",
       "        [0, 0, 0, ..., 0, 0, 0],\n",
       "        [0, 0, 0, ..., 0, 0, 0]],\n",
       "\n",
       "       [[0, 0, 0, ..., 0, 0, 0],\n",
       "        [0, 0, 0, ..., 0, 0, 0],\n",
       "        [0, 0, 0, ..., 0, 0, 0],\n",
       "        ...,\n",
       "        [0, 0, 0, ..., 0, 0, 0],\n",
       "        [0, 0, 0, ..., 0, 0, 0],\n",
       "        [0, 0, 0, ..., 0, 0, 0]],\n",
       "\n",
       "       ...,\n",
       "\n",
       "       [[0, 0, 0, ..., 0, 0, 0],\n",
       "        [0, 0, 0, ..., 0, 0, 0],\n",
       "        [0, 0, 0, ..., 0, 0, 0],\n",
       "        ...,\n",
       "        [0, 0, 0, ..., 0, 0, 0],\n",
       "        [0, 0, 0, ..., 0, 0, 0],\n",
       "        [0, 0, 0, ..., 0, 0, 0]],\n",
       "\n",
       "       [[0, 0, 0, ..., 0, 0, 0],\n",
       "        [0, 0, 0, ..., 0, 0, 0],\n",
       "        [0, 0, 0, ..., 0, 0, 0],\n",
       "        ...,\n",
       "        [0, 0, 0, ..., 0, 0, 0],\n",
       "        [0, 0, 0, ..., 0, 0, 0],\n",
       "        [0, 0, 0, ..., 0, 0, 0]],\n",
       "\n",
       "       [[0, 0, 0, ..., 0, 0, 0],\n",
       "        [0, 0, 0, ..., 0, 0, 0],\n",
       "        [0, 0, 0, ..., 0, 0, 0],\n",
       "        ...,\n",
       "        [0, 0, 0, ..., 0, 0, 0],\n",
       "        [0, 0, 0, ..., 0, 0, 0],\n",
       "        [0, 0, 0, ..., 0, 0, 0]]], dtype=uint8)"
      ]
     },
     "execution_count": 7,
     "metadata": {},
     "output_type": "execute_result"
    }
   ],
   "source": [
    "x_train"
   ]
  },
  {
   "cell_type": "raw",
   "metadata": {},
   "source": [
    "#onehot encoding (categorical)\n",
    "y_train = keras.utils.to_categorical(y_train, 10)"
   ]
  },
  {
   "cell_type": "code",
   "execution_count": 5,
   "metadata": {},
   "outputs": [
    {
     "data": {
      "text/plain": [
       "array([[0., 0., 0., 0., 0., 1., 0., 0., 0., 0.],\n",
       "       [1., 0., 0., 0., 0., 0., 0., 0., 0., 0.],\n",
       "       [0., 0., 0., 0., 1., 0., 0., 0., 0., 0.],\n",
       "       [0., 1., 0., 0., 0., 0., 0., 0., 0., 0.],\n",
       "       [0., 0., 0., 0., 0., 0., 0., 0., 0., 1.]], dtype=float32)"
      ]
     },
     "execution_count": 5,
     "metadata": {},
     "output_type": "execute_result"
    }
   ],
   "source": [
    "y_train[0:5]"
   ]
  },
  {
   "cell_type": "code",
   "execution_count": 6,
   "metadata": {},
   "outputs": [],
   "source": [
    "y_test = keras.utils.to_categorical(y_test, 10)"
   ]
  },
  {
   "cell_type": "code",
   "execution_count": null,
   "metadata": {},
   "outputs": [],
   "source": [
    "print(x_train.shape, x_test.shape)"
   ]
  },
  {
   "cell_type": "code",
   "execution_count": 7,
   "metadata": {},
   "outputs": [],
   "source": [
    "x_train = x_train.reshape(60000, 28*28)\n",
    "x_test = x_test.reshape(10000, 28*28)"
   ]
  },
  {
   "cell_type": "code",
   "execution_count": 8,
   "metadata": {},
   "outputs": [
    {
     "name": "stdout",
     "output_type": "stream",
     "text": [
      "(60000, 784) (10000, 784)\n"
     ]
    }
   ],
   "source": [
    "print(x_train.shape, x_test.shape)"
   ]
  },
  {
   "cell_type": "code",
   "execution_count": 12,
   "metadata": {},
   "outputs": [],
   "source": [
    "model = keras.Sequential()\n",
    "model.add(keras.layers.Dense(32, activation='relu', input_shape=(28*28,)))\n",
    "model.add(keras.layers.Dense(32, activation='relu'))\n",
    "model.add(keras.layers.Dense(32, activation='relu'))\n",
    "model.add(keras.layers.Dense(32, activation='relu'))\n",
    "model.add(keras.layers.Dense(32, activation='relu'))\n",
    "model.add(keras.layers.Dense(10, activation='softmax'))"
   ]
  },
  {
   "cell_type": "code",
   "execution_count": 14,
   "metadata": {},
   "outputs": [
    {
     "name": "stdout",
     "output_type": "stream",
     "text": [
      "_________________________________________________________________\n",
      "Layer (type)                 Output Shape              Param #   \n",
      "=================================================================\n",
      "dense_6 (Dense)              (None, 32)                25120     \n",
      "_________________________________________________________________\n",
      "dense_7 (Dense)              (None, 32)                1056      \n",
      "_________________________________________________________________\n",
      "dense_8 (Dense)              (None, 32)                1056      \n",
      "_________________________________________________________________\n",
      "dense_9 (Dense)              (None, 32)                1056      \n",
      "_________________________________________________________________\n",
      "dense_10 (Dense)             (None, 32)                1056      \n",
      "_________________________________________________________________\n",
      "dense_11 (Dense)             (None, 10)                330       \n",
      "=================================================================\n",
      "Total params: 29,674\n",
      "Trainable params: 29,674\n",
      "Non-trainable params: 0\n",
      "_________________________________________________________________\n"
     ]
    }
   ],
   "source": [
    "optimizer = keras.optimizers.SGD(lr=0.001)\n",
    "model.compile(optimizer=optimizer, loss='categorical_crossentropy', metrics=['accuracy'])\n",
    "\n",
    "model.summary()"
   ]
  },
  {
   "cell_type": "code",
   "execution_count": 18,
   "metadata": {},
   "outputs": [
    {
     "name": "stdout",
     "output_type": "stream",
     "text": [
      "Train on 60000 samples, validate on 10000 samples\n",
      "Epoch 1/30\n",
      "60000/60000 [==============================] - 0s 6us/step - loss: 0.4267 - acc: 0.8750 - val_loss: 0.4166 - val_acc: 0.8770\n",
      "Epoch 2/30\n",
      "60000/60000 [==============================] - 0s 6us/step - loss: 0.4199 - acc: 0.8769 - val_loss: 0.4095 - val_acc: 0.8801\n",
      "Epoch 3/30\n",
      "60000/60000 [==============================] - 0s 6us/step - loss: 0.4138 - acc: 0.8788 - val_loss: 0.4037 - val_acc: 0.8806\n",
      "Epoch 4/30\n",
      "60000/60000 [==============================] - 0s 6us/step - loss: 0.4076 - acc: 0.8807 - val_loss: 0.4032 - val_acc: 0.8814\n",
      "Epoch 5/30\n",
      "60000/60000 [==============================] - 0s 6us/step - loss: 0.4019 - acc: 0.8824 - val_loss: 0.3947 - val_acc: 0.8825\n",
      "Epoch 6/30\n",
      "60000/60000 [==============================] - 0s 6us/step - loss: 0.3962 - acc: 0.8841 - val_loss: 0.3898 - val_acc: 0.8846\n",
      "Epoch 7/30\n",
      "60000/60000 [==============================] - 0s 6us/step - loss: 0.3909 - acc: 0.8861 - val_loss: 0.3866 - val_acc: 0.8861\n",
      "Epoch 8/30\n",
      "60000/60000 [==============================] - 0s 6us/step - loss: 0.3865 - acc: 0.8872 - val_loss: 0.3826 - val_acc: 0.8878\n",
      "Epoch 9/30\n",
      "60000/60000 [==============================] - 0s 6us/step - loss: 0.3815 - acc: 0.8889 - val_loss: 0.3788 - val_acc: 0.8898\n",
      "Epoch 10/30\n",
      "60000/60000 [==============================] - 0s 6us/step - loss: 0.3771 - acc: 0.8896 - val_loss: 0.3728 - val_acc: 0.8918\n",
      "Epoch 11/30\n",
      "60000/60000 [==============================] - 0s 5us/step - loss: 0.3726 - acc: 0.8911 - val_loss: 0.3710 - val_acc: 0.8904\n",
      "Epoch 12/30\n",
      "60000/60000 [==============================] - 0s 6us/step - loss: 0.3687 - acc: 0.8917 - val_loss: 0.3668 - val_acc: 0.8920\n",
      "Epoch 13/30\n",
      "60000/60000 [==============================] - 0s 6us/step - loss: 0.3649 - acc: 0.8926 - val_loss: 0.3630 - val_acc: 0.8924\n",
      "Epoch 14/30\n",
      "60000/60000 [==============================] - 0s 6us/step - loss: 0.3613 - acc: 0.8939 - val_loss: 0.3599 - val_acc: 0.8943\n",
      "Epoch 15/30\n",
      "60000/60000 [==============================] - 0s 6us/step - loss: 0.3576 - acc: 0.8947 - val_loss: 0.3570 - val_acc: 0.8952\n",
      "Epoch 16/30\n",
      "60000/60000 [==============================] - 0s 6us/step - loss: 0.3543 - acc: 0.8960 - val_loss: 0.3561 - val_acc: 0.8940\n",
      "Epoch 17/30\n",
      "60000/60000 [==============================] - 0s 6us/step - loss: 0.3505 - acc: 0.8973 - val_loss: 0.3517 - val_acc: 0.8961\n",
      "Epoch 18/30\n",
      "60000/60000 [==============================] - 0s 6us/step - loss: 0.3479 - acc: 0.8979 - val_loss: 0.3488 - val_acc: 0.8973\n",
      "Epoch 19/30\n",
      "60000/60000 [==============================] - 0s 6us/step - loss: 0.3446 - acc: 0.8992 - val_loss: 0.3464 - val_acc: 0.8973\n",
      "Epoch 20/30\n",
      "60000/60000 [==============================] - 0s 5us/step - loss: 0.3423 - acc: 0.8994 - val_loss: 0.3472 - val_acc: 0.8976\n",
      "Epoch 21/30\n",
      "60000/60000 [==============================] - 0s 6us/step - loss: 0.3384 - acc: 0.9004 - val_loss: 0.3413 - val_acc: 0.9004\n",
      "Epoch 22/30\n",
      "60000/60000 [==============================] - 0s 6us/step - loss: 0.3363 - acc: 0.9010 - val_loss: 0.3390 - val_acc: 0.9004\n",
      "Epoch 23/30\n",
      "60000/60000 [==============================] - 0s 6us/step - loss: 0.3333 - acc: 0.9014 - val_loss: 0.3365 - val_acc: 0.9007\n",
      "Epoch 24/30\n",
      "60000/60000 [==============================] - 0s 6us/step - loss: 0.3313 - acc: 0.9024 - val_loss: 0.3359 - val_acc: 0.9005\n",
      "Epoch 25/30\n",
      "60000/60000 [==============================] - 0s 6us/step - loss: 0.3285 - acc: 0.9035 - val_loss: 0.3325 - val_acc: 0.9019\n",
      "Epoch 26/30\n",
      "60000/60000 [==============================] - 0s 6us/step - loss: 0.3261 - acc: 0.9038 - val_loss: 0.3310 - val_acc: 0.9017\n",
      "Epoch 27/30\n",
      "60000/60000 [==============================] - 0s 6us/step - loss: 0.3232 - acc: 0.9049 - val_loss: 0.3279 - val_acc: 0.9025\n",
      "Epoch 28/30\n",
      "60000/60000 [==============================] - 0s 6us/step - loss: 0.3211 - acc: 0.9051 - val_loss: 0.3271 - val_acc: 0.9031\n",
      "Epoch 29/30\n",
      "60000/60000 [==============================] - 0s 6us/step - loss: 0.3189 - acc: 0.9051 - val_loss: 0.3247 - val_acc: 0.9033\n",
      "Epoch 30/30\n",
      "60000/60000 [==============================] - 0s 6us/step - loss: 0.3162 - acc: 0.9064 - val_loss: 0.3252 - val_acc: 0.9038\n"
     ]
    },
    {
     "data": {
      "text/plain": [
       "<tensorflow.python.keras.callbacks.History at 0x7f464c5c9e48>"
      ]
     },
     "execution_count": 18,
     "metadata": {},
     "output_type": "execute_result"
    }
   ],
   "source": [
    "model.fit(x_train, y_train, batch_size=1000, epochs=30, validation_data=(x_test, y_test))"
   ]
  },
  {
   "cell_type": "code",
   "execution_count": null,
   "metadata": {},
   "outputs": [],
   "source": []
  }
 ],
 "metadata": {
  "kernelspec": {
   "display_name": "Python 3",
   "language": "python",
   "name": "python3"
  },
  "language_info": {
   "codemirror_mode": {
    "name": "ipython",
    "version": 3
   },
   "file_extension": ".py",
   "mimetype": "text/x-python",
   "name": "python",
   "nbconvert_exporter": "python",
   "pygments_lexer": "ipython3",
   "version": "3.7.4"
  }
 },
 "nbformat": 4,
 "nbformat_minor": 2
}
