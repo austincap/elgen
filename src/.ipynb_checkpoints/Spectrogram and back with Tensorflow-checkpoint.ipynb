{
 "cells": [
  {
   "cell_type": "code",
   "execution_count": 27,
   "metadata": {},
   "outputs": [],
   "source": [
    "import tensorflow as tf\n",
    "import os\n",
    "from scipy.io.wavfile import read\n",
    "import math"
   ]
  },
  {
   "cell_type": "code",
   "execution_count": 12,
   "metadata": {},
   "outputs": [
    {
     "data": {
      "text/plain": [
       "['1-ElectricCity.wav',\n",
       " 'recovered.wav',\n",
       " '5-Breakdance.wav',\n",
       " '9-RockYourBody.wav',\n",
       " '14-RockYourBodyBrainbugRemix.wav',\n",
       " '6-GetFreaky.wav',\n",
       " '13-PackJam.wav',\n",
       " 'before.wav',\n",
       " '10-DontStopTheRock.wav',\n",
       " '11-FunkyNation.wav',\n",
       " '16-MusicInstructorMegaMix.wav',\n",
       " '8-TechnicalLover.wav',\n",
       " 'spectrogram2.png',\n",
       " '3-LetTheMusicPlay.wav',\n",
       " '4-SuperSonic.wav',\n",
       " '2-PlanetEarth.wav',\n",
       " 'spectrogram.png',\n",
       " '15-WeAreTheRobots.wav',\n",
       " '7-JamOnIt.wav',\n",
       " '12-GalaxyJam.wav']"
      ]
     },
     "execution_count": 12,
     "metadata": {},
     "output_type": "execute_result"
    }
   ],
   "source": [
    "os.listdir('/input')"
   ]
  },
  {
   "cell_type": "code",
   "execution_count": 13,
   "metadata": {},
   "outputs": [],
   "source": [
    "rate, audioData = read('/input/1-ElectricCity.wav')"
   ]
  },
  {
   "cell_type": "code",
   "execution_count": 25,
   "metadata": {},
   "outputs": [
    {
     "name": "stdout",
     "output_type": "stream",
     "text": [
      "Rate: 44100\n",
      "Length: 4:53\n",
      "Data type: int16\n"
     ]
    }
   ],
   "source": [
    "print(\"Rate:\", rate)\n",
    "\n",
    "lengthMinutes = audioData.shape[0] / rate //  60\n",
    "lengthSeconds = (audioData.shape[0] / rate / 60 - lengthMinutes) * 60\n",
    "lengthStr = '{}:{}'.format(int(lengthMinutes), int(lengthSeconds))\n",
    "print(\"Length:\", lengthStr)\n",
    "print(\"Data type:\", audioData.dtype)"
   ]
  },
  {
   "cell_type": "code",
   "execution_count": 26,
   "metadata": {},
   "outputs": [],
   "source": [
    "channel1 = audioData[:,0] # left channel\n",
    "channel2 = audioData[:,1] # right channel"
   ]
  },
  {
   "cell_type": "markdown",
   "metadata": {},
   "source": [
    "### Constants and global variables"
   ]
  },
  {
   "cell_type": "code",
   "execution_count": 28,
   "metadata": {},
   "outputs": [],
   "source": [
    "FFT_LENGTH = 1024\n",
    "WINDOW_LENGTH = 512\n",
    "WINDOW_STEP = int(WINDOW_LENGTH / 2)\n",
    "magnitudeMin = float(\"inf\")\n",
    "magnitudeMax = float(\"-inf\")\n",
    "phaseMin = -math.pi\n",
    "phaseMax = math.pi"
   ]
  },
  {
   "cell_type": "code",
   "execution_count": 30,
   "metadata": {},
   "outputs": [
    {
     "name": "stdout",
     "output_type": "stream",
     "text": [
      "b'Hello, Tensorflow!'\n"
     ]
    }
   ],
   "source": [
    "with tf.Session() as sess:\n",
    "    hello = tf.constant('Hello, Tensorflow!')\n",
    "    print(sess.run(hello))\n",
    "    "
   ]
  },
  {
   "cell_type": "code",
   "execution_count": null,
   "metadata": {},
   "outputs": [],
   "source": []
  }
 ],
 "metadata": {
  "kernelspec": {
   "display_name": "Python 3",
   "language": "python",
   "name": "python3"
  },
  "language_info": {
   "codemirror_mode": {
    "name": "ipython",
    "version": 3
   },
   "file_extension": ".py",
   "mimetype": "text/x-python",
   "name": "python",
   "nbconvert_exporter": "python",
   "pygments_lexer": "ipython3",
   "version": "3.5.2"
  }
 },
 "nbformat": 4,
 "nbformat_minor": 2
}
