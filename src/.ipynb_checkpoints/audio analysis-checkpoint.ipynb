{
 "cells": [
  {
   "cell_type": "code",
   "execution_count": 123,
   "metadata": {},
   "outputs": [],
   "source": [
    "import tensorflow as tf\n",
    "import os\n",
    "cwd = os.getcwd()"
   ]
  },
  {
   "cell_type": "code",
   "execution_count": 124,
   "metadata": {},
   "outputs": [
    {
     "data": {
      "text/plain": [
       "'/notebooks'"
      ]
     },
     "execution_count": 124,
     "metadata": {},
     "output_type": "execute_result"
    }
   ],
   "source": [
    "cwd"
   ]
  },
  {
   "cell_type": "code",
   "execution_count": 125,
   "metadata": {},
   "outputs": [
    {
     "data": {
      "text/plain": [
       "['14-RockYourBodyBrainbugRemix.mp3.wav',\n",
       " '10-DontStopTheRock.mp3.wav',\n",
       " 'file1.wav',\n",
       " '5-Breakdance.mp3.wav',\n",
       " 'recovered.wav',\n",
       " '15-WeAreTheRobots.mp3.wav',\n",
       " '2-PlanetEarth.mp3.wav',\n",
       " '8-TechnicalLover.mp3.wav',\n",
       " '6-GetFreaky.mp3.wav',\n",
       " '1-ElectricCity.mp3.wav',\n",
       " '12-GalaxyJam.mp3.wav',\n",
       " '4-SuperSonic.mp3.wav',\n",
       " '16-MusicInstructorMegaMix.mp3.wav',\n",
       " 'test.wav',\n",
       " '13-PackJam.mp3.wav',\n",
       " 'test2.wav',\n",
       " '3-LetTheMusicPlay.mp3.wav',\n",
       " 'file2.wav',\n",
       " 'spectrogram.png',\n",
       " '7-JamOnIt.mp3.wav',\n",
       " '11-FunkyNation.mp3.wav',\n",
       " '9-RockYourBody.mp3.wav']"
      ]
     },
     "execution_count": 125,
     "metadata": {},
     "output_type": "execute_result"
    }
   ],
   "source": [
    "os.listdir('/input')"
   ]
  },
  {
   "cell_type": "code",
   "execution_count": 126,
   "metadata": {},
   "outputs": [],
   "source": [
    "import scipy.io.wavfile"
   ]
  },
  {
   "cell_type": "code",
   "execution_count": 127,
   "metadata": {},
   "outputs": [],
   "source": [
    "rate,audData=scipy.io.wavfile.read('/input/1-ElectricCity.mp3.wav')"
   ]
  },
  {
   "cell_type": "code",
   "execution_count": 128,
   "metadata": {},
   "outputs": [
    {
     "data": {
      "text/plain": [
       "4.884462585034013"
      ]
     },
     "execution_count": 128,
     "metadata": {},
     "output_type": "execute_result"
    }
   ],
   "source": [
    "audData.shape[0] / rate / 60"
   ]
  },
  {
   "cell_type": "code",
   "execution_count": 129,
   "metadata": {},
   "outputs": [],
   "source": [
    "channel1=audData[:,0] #left\n",
    "channel2=audData[:,1] #right"
   ]
  },
  {
   "cell_type": "code",
   "execution_count": 130,
   "metadata": {},
   "outputs": [
    {
     "data": {
      "text/plain": [
       "dtype('int16')"
      ]
     },
     "execution_count": 130,
     "metadata": {},
     "output_type": "execute_result"
    }
   ],
   "source": [
    "audData.dtype"
   ]
  },
  {
   "cell_type": "code",
   "execution_count": 131,
   "metadata": {},
   "outputs": [],
   "source": [
    "scipy.io.wavfile.write(\"/input/file1.wav\", round(rate/1.25), audData)\n",
    "scipy.io.wavfile.write(\"/input/file2.wav\", round(rate*1.25), audData)"
   ]
  },
  {
   "cell_type": "code",
   "execution_count": 280,
   "metadata": {},
   "outputs": [],
   "source": [
    "signal_fragment = channel1[20*rate:23*rate]"
   ]
  },
  {
   "cell_type": "markdown",
   "metadata": {},
   "source": [
    "### Create FFT"
   ]
  },
  {
   "cell_type": "code",
   "execution_count": 281,
   "metadata": {},
   "outputs": [],
   "source": [
    "import numpy as np\n",
    "import math\n",
    "from PIL import Image"
   ]
  },
  {
   "cell_type": "code",
   "execution_count": 282,
   "metadata": {},
   "outputs": [],
   "source": [
    "def amplifyMagnitudeByLog(d):\n",
    "    return 188.301 * math.log10(d + 1)\n",
    "\n",
    "def weakenAmplifiedMagnitude(d):\n",
    "    return math.pow(10, d/188.301)-1\n",
    "\n",
    "def generateLinearScale(magnitudePixels, phasePixels, \n",
    "                        magnitudeMin, magnitudeMax, phaseMin, phaseMax):\n",
    "    height = magnitudePixels.shape[0]\n",
    "    width = magnitudePixels.shape[1]\n",
    "    magnitudeRange = magnitudeMax - magnitudeMin\n",
    "    phaseRange = phaseMax - phaseMin\n",
    "    rgbArray = np.zeros((height, width, 3), 'uint8')\n",
    "    \n",
    "    for w in range(width):\n",
    "        for h in range(height):\n",
    "            magnitudePixels[h,w] = (magnitudePixels[h,w] - magnitudeMin) / (magnitudeRange) * 255 * 2\n",
    "            magnitudePixels[h,w] = amplifyMagnitudeByLog(magnitudePixels[h,w])\n",
    "            phasePixels[h,w] = (phasePixels[h,w] - phaseMin) / (phaseRange) * 255\n",
    "            red = 255 if magnitudePixels[h,w] > 255 else magnitudePixels[h,w]\n",
    "            green = (magnitudePixels[h,w] - 255) if magnitudePixels[h,w] > 255 else 0\n",
    "            blue = phasePixels[h,w]\n",
    "            rgbArray[h,w,0] = int(red)\n",
    "            rgbArray[h,w,1] = int(green)\n",
    "            rgbArray[h,w,2] = int(blue)\n",
    "    return rgbArray\n",
    "\n",
    "def recoverLinearScale(rgbArray, magnitudeMin, magnitudeMax, \n",
    "                       phaseMin, phaseMax):\n",
    "    width = rgbArray.shape[1]\n",
    "    height = rgbArray.shape[0]\n",
    "    magnitudeVals = rgbArray[:,:,0].astype(float) + rgbArray[:,:,1].astype(float)\n",
    "    phaseVals = rgbArray[:,:,2].astype(float)\n",
    "    phaseRange = phaseMax - phaseMin\n",
    "    magnitudeRange = magnitudeMax - magnitudeMin\n",
    "    for w in range(width):\n",
    "        for h in range(height):\n",
    "            phaseVals[h,w] = (phaseVals[h,w] / 255 * phaseRange) + phaseMin\n",
    "            magnitudeVals[h,w] = weakenAmplifiedMagnitude(magnitudeVals[h,w])\n",
    "            magnitudeVals[h,w] = (magnitudeVals[h,w] / (255*2) * magnitudeRange) + magnitudeMin\n",
    "    return magnitudeVals, phaseVals"
   ]
  },
  {
   "cell_type": "code",
   "execution_count": 283,
   "metadata": {},
   "outputs": [],
   "source": [
    "FFT_LENGTH = 1024\n",
    "WINDOW_LENGTH = 512\n",
    "WINDOW_STEP = int(WINDOW_LENGTH / 2)\n",
    "magnitudeMin = float(\"inf\")\n",
    "magnitudeMax = float(\"-inf\")\n",
    "phaseMin = float(\"inf\")\n",
    "phaseMax = float(\"-inf\")"
   ]
  },
  {
   "cell_type": "code",
   "execution_count": 296,
   "metadata": {},
   "outputs": [],
   "source": [
    "def generateSpectrogramForWave(signal):\n",
    "    global magnitudeMin\n",
    "    global magnitudeMax\n",
    "    global phaseMin\n",
    "    global phaseMax\n",
    "    buffer = np.zeros(int(signal.size + WINDOW_STEP - (signal.size % WINDOW_STEP)))\n",
    "    buffer[0:len(signal)] = signal\n",
    "    height = int(FFT_LENGTH / 2 + 1)\n",
    "    width = int(len(buffer) / (WINDOW_STEP) - 1)\n",
    "    magnitudePixels = np.zeros((height, width))\n",
    "    phasePixels = np.zeros((height, width))\n",
    "\n",
    "    for w in range(width):\n",
    "        buff = np.zeros(FFT_LENGTH)\n",
    "        stepBuff = buffer[w*WINDOW_STEP:w*WINDOW_STEP + WINDOW_LENGTH]\n",
    "        # apply hanning window\n",
    "        stepBuff = stepBuff * np.hanning(WINDOW_LENGTH)\n",
    "        buff[0:len(stepBuff)] = stepBuff\n",
    "        #buff now contains windowed signal with step length and padded with zeroes to the end\n",
    "        fft = np.fft.rfft(buff)\n",
    "        for h in range(len(fft)):\n",
    "            #print(buff.shape)\n",
    "            #return\n",
    "            magnitude = math.sqrt(fft[h].real**2 + fft[h].imag**2)\n",
    "            if magnitude > magnitudeMax:\n",
    "                magnitudeMax = magnitude \n",
    "            if magnitude < magnitudeMin:\n",
    "                magnitudeMin = magnitude \n",
    "\n",
    "            phase = math.atan2(fft[h].imag, fft[h].real)\n",
    "            if phase > phaseMax:\n",
    "                phaseMax = phase\n",
    "            if phase < phaseMin:\n",
    "                phaseMin = phase\n",
    "            magnitudePixels[height-h-1,w] = magnitude\n",
    "            phasePixels[height-h-1,w] = phase\n",
    "    rgbArray = generateLinearScale(magnitudePixels, phasePixels,\n",
    "                                  magnitudeMin, magnitudeMax, phaseMin, phaseMax)\n",
    "    img = Image.fromarray(rgbArray, 'RGB')\n",
    "    return img\n",
    "img = generateSpectrogramForWave(signal_fragment)\n",
    "img#.show()\n",
    "scipy.io.wavfile.write(\"/input/before.wav\", rate, signal_fragment)\n",
    "img.save(\"/input/spectrogram.png\",\"PNG\")\n",
    "#generateSpectrogramForWave(signal_fragment)"
   ]
  },
  {
   "cell_type": "markdown",
   "metadata": {},
   "source": [
    "### Recover from png"
   ]
  },
  {
   "cell_type": "code",
   "execution_count": 295,
   "metadata": {},
   "outputs": [],
   "source": [
    "def recoverSignalFromSpectrogram(filePath):\n",
    "    img = Image.open(filePath)\n",
    "    data = np.array( img, dtype='uint8' )\n",
    "    width = data.shape[1]\n",
    "    height = data.shape[0]\n",
    "\n",
    "    magnitudeVals, phaseVals \\\n",
    "    = recoverLinearScale(data, magnitudeMin, magnitudeMax, phaseMin, phaseMax)\n",
    "    \n",
    "    recovered = np.zeros(WINDOW_LENGTH * width // 2 + WINDOW_STEP, dtype=np.int16)\n",
    "    for w in range(width):\n",
    "        toInverse = np.zeros(height, dtype=np.complex_)\n",
    "        for h in range(height):\n",
    "            magnitude = magnitudeVals[height-h-1,w]\n",
    "            phase = phaseVals[height-h-1,w]\n",
    "            toInverse[h] = magnitude * math.cos(phase) + (1j * magnitude * math.sin(phase))\n",
    "        signal = np.fft.irfft(toInverse)\n",
    "        recovered[w*WINDOW_STEP:w*WINDOW_STEP + WINDOW_LENGTH] += signal[:WINDOW_LENGTH].astype(np.int16)\n",
    "    scipy.io.wavfile.write(\"/input/recovered.wav\", rate, recovered)\n",
    "recoverSignalFromSpectrogram(\"/input/spectrogram.png\")"
   ]
  },
  {
   "cell_type": "markdown",
   "metadata": {},
   "source": [
    "# TESTS"
   ]
  },
  {
   "cell_type": "code",
   "execution_count": 122,
   "metadata": {},
   "outputs": [
    {
     "name": "stdout",
     "output_type": "stream",
     "text": [
      "[ True  True  True ...  True False  True]\n",
      "[3651 3539 3261 ...   36 2228 2074]\n",
      "[3651 3539 3261 ...   36 2227 2074]\n",
      "220501\n"
     ]
    }
   ],
   "source": [
    "resampled = np.fft.irfft(np.fft.rfft(signal_fragment), len(signal_fragment)).astype(np.int16)\n",
    "print(resampled == signal_fragment)\n",
    "print(signal_fragment)\n",
    "print(resampled)\n",
    "fft = np.fft.rfft(signal_fragment)\n",
    "print(len(fft))\n",
    "scipy.io.wavfile.write(\"/input/test.wav\", rate, resampled)\n",
    "scipy.io.wavfile.write(\"/input/test2.wav\", rate, signal_fragment)"
   ]
  },
  {
   "cell_type": "code",
   "execution_count": 237,
   "metadata": {},
   "outputs": [
    {
     "name": "stdout",
     "output_type": "stream",
     "text": [
      "[[[  0   0   0]\n",
      "  [131   0   2]\n",
      "  [188   0   4]\n",
      "  [215   0   6]\n",
      "  [240   0   9]\n",
      "  [255   4  11]\n",
      "  [255  17  13]\n",
      "  [255  30  16]\n",
      "  [255 246 229]]\n",
      "\n",
      " [[255 254 255]\n",
      "  [255  30  16]\n",
      "  [255  17  13]\n",
      "  [255   4  11]\n",
      "  [240   0   9]\n",
      "  [215   0   6]\n",
      "  [188   0   4]\n",
      "  [131   0   2]\n",
      "  [  0   0   0]]]\n",
      "[[  1   1   2   3   4   5   6   7  99]\n",
      " [109   7   6   5   4   3   2   1   1]]\n",
      "[[  1.           1.8627451    2.7254902    3.58823529   4.88235294\n",
      "    5.74509804   6.60784314   7.90196078  99.78431373]\n",
      " [111.           7.90196078   6.60784314   5.74509804   4.88235294\n",
      "    3.58823529   2.7254902    1.8627451    1.        ]]\n"
     ]
    }
   ],
   "source": [
    "magnitudePixels = np.array([[1, 2, 3, 4, 5, 6, 7, 8, 100],\n",
    "                  [111, 8, 7, 6, 5, 4, 3, 2, 1]])\n",
    "phasePixels = np.array([[1, 2, 3, 4, 5, 6, 7, 8, 100],\n",
    "              [111, 8, 7, 6, 5, 4, 3, 2, 1]])\n",
    "maxMag = np.max(magnitudePixels)\n",
    "minMag = np.min(magnitudePixels)\n",
    "maxPhase = np.max(phasePixels)\n",
    "minPhase = np.min(phasePixels)\n",
    "rgbArray = generateLinearScale(magnitudePixels, phasePixels, minMag, maxMag, minPhase, maxPhase)\n",
    "print(rgbArray)\n",
    "magRecovered, phaseRecovered = recoverLinearScale(rgbArray, minMag, maxMag, minPhase, maxPhase)\n",
    "print(magRecovered.astype(int))\n",
    "print(phaseRecovered)"
   ]
  },
  {
   "cell_type": "code",
   "execution_count": null,
   "metadata": {},
   "outputs": [],
   "source": [
    "import matplotlib.pyplot as plt\n",
    "from scipy import signal"
   ]
  },
  {
   "cell_type": "code",
   "execution_count": 50,
   "metadata": {},
   "outputs": [],
   "source": [
    "signal_fragment = channel1[4*rate:6*rate]\n",
    "f, t, Zxx = signal.stft(signal_fragment, rate)"
   ]
  },
  {
   "cell_type": "code",
   "execution_count": 65,
   "metadata": {},
   "outputs": [],
   "source": [
    "maxAmp = 4410"
   ]
  },
  {
   "cell_type": "code",
   "execution_count": 67,
   "metadata": {},
   "outputs": [
    {
     "data": {
      "image/png": "[encoded data removed]",
      "text/plain": [
       "<Figure size 432x288 with 1 Axes>"
      ]
     },
     "metadata": {
      "needs_background": "light"
     },
     "output_type": "display_data"
    }
   ],
   "source": [
    "plt.pcolormesh(t, f, np.abs(Zxx))\n",
    "plt.show()"
   ]
  },
  {
   "cell_type": "code",
   "execution_count": null,
   "metadata": {},
   "outputs": [],
   "source": []
  }
 ],
 "metadata": {
  "kernelspec": {
   "display_name": "Python 3",
   "language": "python",
   "name": "python3"
  },
  "language_info": {
   "codemirror_mode": {
    "name": "ipython",
    "version": 3
   },
   "file_extension": ".py",
   "mimetype": "text/x-python",
   "name": "python",
   "nbconvert_exporter": "python",
   "pygments_lexer": "ipython3",
   "version": "3.5.2"
  }
 },
 "nbformat": 4,
 "nbformat_minor": 2
}
